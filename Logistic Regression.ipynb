{
 "cells": [
  {
   "cell_type": "code",
   "execution_count": 10,
   "metadata": {},
   "outputs": [],
   "source": [
    "import pandas as pd\n",
    "from sklearn.linear_model import LogisticRegression"
   ]
  },
  {
   "cell_type": "code",
   "execution_count": 11,
   "metadata": {},
   "outputs": [
    {
     "data": {
      "text/html": [
       "<div>\n",
       "<style scoped>\n",
       "    .dataframe tbody tr th:only-of-type {\n",
       "        vertical-align: middle;\n",
       "    }\n",
       "\n",
       "    .dataframe tbody tr th {\n",
       "        vertical-align: top;\n",
       "    }\n",
       "\n",
       "    .dataframe thead th {\n",
       "        text-align: right;\n",
       "    }\n",
       "</style>\n",
       "<table border=\"1\" class=\"dataframe\">\n",
       "  <thead>\n",
       "    <tr style=\"text-align: right;\">\n",
       "      <th></th>\n",
       "      <th>CASENUM</th>\n",
       "      <th>ATTORNEY</th>\n",
       "      <th>CLMSEX</th>\n",
       "      <th>CLMINSUR</th>\n",
       "      <th>SEATBELT</th>\n",
       "      <th>CLMAGE</th>\n",
       "      <th>LOSS</th>\n",
       "    </tr>\n",
       "  </thead>\n",
       "  <tbody>\n",
       "    <tr>\n",
       "      <th>0</th>\n",
       "      <td>5</td>\n",
       "      <td>0</td>\n",
       "      <td>0.0</td>\n",
       "      <td>1.0</td>\n",
       "      <td>0.0</td>\n",
       "      <td>50.0</td>\n",
       "      <td>34.940</td>\n",
       "    </tr>\n",
       "    <tr>\n",
       "      <th>1</th>\n",
       "      <td>3</td>\n",
       "      <td>1</td>\n",
       "      <td>1.0</td>\n",
       "      <td>0.0</td>\n",
       "      <td>0.0</td>\n",
       "      <td>18.0</td>\n",
       "      <td>0.891</td>\n",
       "    </tr>\n",
       "    <tr>\n",
       "      <th>2</th>\n",
       "      <td>66</td>\n",
       "      <td>1</td>\n",
       "      <td>0.0</td>\n",
       "      <td>1.0</td>\n",
       "      <td>0.0</td>\n",
       "      <td>5.0</td>\n",
       "      <td>0.330</td>\n",
       "    </tr>\n",
       "    <tr>\n",
       "      <th>3</th>\n",
       "      <td>70</td>\n",
       "      <td>0</td>\n",
       "      <td>0.0</td>\n",
       "      <td>1.0</td>\n",
       "      <td>1.0</td>\n",
       "      <td>31.0</td>\n",
       "      <td>0.037</td>\n",
       "    </tr>\n",
       "    <tr>\n",
       "      <th>4</th>\n",
       "      <td>96</td>\n",
       "      <td>1</td>\n",
       "      <td>0.0</td>\n",
       "      <td>1.0</td>\n",
       "      <td>0.0</td>\n",
       "      <td>30.0</td>\n",
       "      <td>0.038</td>\n",
       "    </tr>\n",
       "  </tbody>\n",
       "</table>\n",
       "</div>"
      ],
      "text/plain": [
       "   CASENUM  ATTORNEY  CLMSEX  CLMINSUR  SEATBELT  CLMAGE    LOSS\n",
       "0        5         0     0.0       1.0       0.0    50.0  34.940\n",
       "1        3         1     1.0       0.0       0.0    18.0   0.891\n",
       "2       66         1     0.0       1.0       0.0     5.0   0.330\n",
       "3       70         0     0.0       1.0       1.0    31.0   0.037\n",
       "4       96         1     0.0       1.0       0.0    30.0   0.038"
      ]
     },
     "execution_count": 11,
     "metadata": {},
     "output_type": "execute_result"
    }
   ],
   "source": [
    "#Load the data set\n",
    "#clmsex=x1---loss=x5\n",
    "claimants = pd.read_csv(\"claimants.csv\")\n",
    "claimants.head()"
   ]
  },
  {
   "cell_type": "code",
   "execution_count": 12,
   "metadata": {},
   "outputs": [],
   "source": [
    "# dropping the case number columns as it is not required\n",
    "#if inplace is not used we hv to store data in other variable i.e modified \n",
    "claimants.drop([\"CASENUM\"],inplace=True,axis = 1)"
   ]
  },
  {
   "cell_type": "code",
   "execution_count": 13,
   "metadata": {},
   "outputs": [
    {
     "data": {
      "text/plain": [
       "(1340, 6)"
      ]
     },
     "execution_count": 13,
     "metadata": {},
     "output_type": "execute_result"
    }
   ],
   "source": [
    "#Shape of the data set\n",
    "claimants.shape"
   ]
  },
  {
   "cell_type": "code",
   "execution_count": 14,
   "metadata": {},
   "outputs": [
    {
     "data": {
      "text/plain": [
       "(1096, 6)"
      ]
     },
     "execution_count": 14,
     "metadata": {},
     "output_type": "execute_result"
    }
   ],
   "source": [
    "# Removing NA values in data set\n",
    "claimants = claimants.dropna()\n",
    "claimants.shape"
   ]
  },
  {
   "cell_type": "code",
   "execution_count": 15,
   "metadata": {},
   "outputs": [],
   "source": [
    "# Dividing our data into input and output variables \n",
    "X = claimants.iloc[:,1:] #remaing col\n",
    "Y = claimants.iloc[:,0] #1st col"
   ]
  },
  {
   "cell_type": "code",
   "execution_count": 16,
   "metadata": {},
   "outputs": [
    {
     "data": {
      "text/plain": [
       "0       0\n",
       "1       1\n",
       "2       1\n",
       "3       0\n",
       "4       1\n",
       "       ..\n",
       "1334    1\n",
       "1336    0\n",
       "1337    1\n",
       "1338    0\n",
       "1339    1\n",
       "Name: ATTORNEY, Length: 1096, dtype: int64"
      ]
     },
     "execution_count": 16,
     "metadata": {},
     "output_type": "execute_result"
    }
   ],
   "source": [
    "Y"
   ]
  },
  {
   "cell_type": "code",
   "execution_count": 17,
   "metadata": {},
   "outputs": [
    {
     "data": {
      "text/plain": [
       "LogisticRegression()"
      ]
     },
     "execution_count": 17,
     "metadata": {},
     "output_type": "execute_result"
    }
   ],
   "source": [
    "#Logistic regression and fit the model\n",
    "classifier = LogisticRegression()\n",
    "classifier.fit(X,Y)"
   ]
  },
  {
   "cell_type": "code",
   "execution_count": 18,
   "metadata": {},
   "outputs": [
    {
     "data": {
      "text/plain": [
       "array([-0.17361679])"
      ]
     },
     "execution_count": 18,
     "metadata": {},
     "output_type": "execute_result"
    }
   ],
   "source": [
    "classifier.intercept_ #alpha"
   ]
  },
  {
   "cell_type": "code",
   "execution_count": 19,
   "metadata": {},
   "outputs": [
    {
     "data": {
      "text/plain": [
       "array([[ 0.42687928,  0.57068784, -0.59439873,  0.00653888, -0.38424791]])"
      ]
     },
     "execution_count": 19,
     "metadata": {},
     "output_type": "execute_result"
    }
   ],
   "source": [
    "classifier.coef_ #b1 b2 b3 b4 b5"
   ]
  },
  {
   "cell_type": "code",
   "execution_count": 20,
   "metadata": {},
   "outputs": [],
   "source": [
    "#Predict for X dataset\n",
    "y_pred = classifier.predict(X)"
   ]
  },
  {
   "cell_type": "code",
   "execution_count": 21,
   "metadata": {},
   "outputs": [],
   "source": [
    "y_pred_df= pd.DataFrame({'actual': Y,\n",
    "                         'predicted_prob': classifier.predict(X)})"
   ]
  },
  {
   "cell_type": "code",
   "execution_count": 22,
   "metadata": {},
   "outputs": [
    {
     "data": {
      "text/html": [
       "<div>\n",
       "<style scoped>\n",
       "    .dataframe tbody tr th:only-of-type {\n",
       "        vertical-align: middle;\n",
       "    }\n",
       "\n",
       "    .dataframe tbody tr th {\n",
       "        vertical-align: top;\n",
       "    }\n",
       "\n",
       "    .dataframe thead th {\n",
       "        text-align: right;\n",
       "    }\n",
       "</style>\n",
       "<table border=\"1\" class=\"dataframe\">\n",
       "  <thead>\n",
       "    <tr style=\"text-align: right;\">\n",
       "      <th></th>\n",
       "      <th>actual</th>\n",
       "      <th>predicted_prob</th>\n",
       "    </tr>\n",
       "  </thead>\n",
       "  <tbody>\n",
       "    <tr>\n",
       "      <th>0</th>\n",
       "      <td>0</td>\n",
       "      <td>0</td>\n",
       "    </tr>\n",
       "    <tr>\n",
       "      <th>1</th>\n",
       "      <td>1</td>\n",
       "      <td>1</td>\n",
       "    </tr>\n",
       "    <tr>\n",
       "      <th>2</th>\n",
       "      <td>1</td>\n",
       "      <td>1</td>\n",
       "    </tr>\n",
       "    <tr>\n",
       "      <th>3</th>\n",
       "      <td>0</td>\n",
       "      <td>0</td>\n",
       "    </tr>\n",
       "    <tr>\n",
       "      <th>4</th>\n",
       "      <td>1</td>\n",
       "      <td>1</td>\n",
       "    </tr>\n",
       "    <tr>\n",
       "      <th>...</th>\n",
       "      <td>...</td>\n",
       "      <td>...</td>\n",
       "    </tr>\n",
       "    <tr>\n",
       "      <th>1334</th>\n",
       "      <td>1</td>\n",
       "      <td>1</td>\n",
       "    </tr>\n",
       "    <tr>\n",
       "      <th>1336</th>\n",
       "      <td>0</td>\n",
       "      <td>0</td>\n",
       "    </tr>\n",
       "    <tr>\n",
       "      <th>1337</th>\n",
       "      <td>1</td>\n",
       "      <td>1</td>\n",
       "    </tr>\n",
       "    <tr>\n",
       "      <th>1338</th>\n",
       "      <td>0</td>\n",
       "      <td>0</td>\n",
       "    </tr>\n",
       "    <tr>\n",
       "      <th>1339</th>\n",
       "      <td>1</td>\n",
       "      <td>1</td>\n",
       "    </tr>\n",
       "  </tbody>\n",
       "</table>\n",
       "<p>1096 rows × 2 columns</p>\n",
       "</div>"
      ],
      "text/plain": [
       "      actual  predicted_prob\n",
       "0          0               0\n",
       "1          1               1\n",
       "2          1               1\n",
       "3          0               0\n",
       "4          1               1\n",
       "...      ...             ...\n",
       "1334       1               1\n",
       "1336       0               0\n",
       "1337       1               1\n",
       "1338       0               0\n",
       "1339       1               1\n",
       "\n",
       "[1096 rows x 2 columns]"
      ]
     },
     "execution_count": 22,
     "metadata": {},
     "output_type": "execute_result"
    }
   ],
   "source": [
    "y_pred_df"
   ]
  },
  {
   "cell_type": "code",
   "execution_count": 23,
   "metadata": {},
   "outputs": [
    {
     "name": "stdout",
     "output_type": "stream",
     "text": [
      "[[381 197]\n",
      " [123 395]]\n"
     ]
    }
   ],
   "source": [
    "# Confusion Matrix for the model accuracy\n",
    "from sklearn.metrics import confusion_matrix\n",
    "from sklearn.metrics import accuracy_score as ac\n",
    "confusion_matrix = confusion_matrix(Y,y_pred)\n",
    "print (confusion_matrix)"
   ]
  },
  {
   "cell_type": "code",
   "execution_count": 24,
   "metadata": {},
   "outputs": [
    {
     "data": {
      "text/plain": [
       "0.708029197080292"
      ]
     },
     "execution_count": 24,
     "metadata": {},
     "output_type": "execute_result"
    }
   ],
   "source": [
    "ac(Y,y_pred) #y accuracy"
   ]
  },
  {
   "cell_type": "code",
   "execution_count": 25,
   "metadata": {},
   "outputs": [
    {
     "data": {
      "text/plain": [
       "70.8029197080292"
      ]
     },
     "execution_count": 25,
     "metadata": {},
     "output_type": "execute_result"
    }
   ],
   "source": [
    "((381+395)/(381+197+123+395))*100"
   ]
  },
  {
   "cell_type": "code",
   "execution_count": 26,
   "metadata": {},
   "outputs": [
    {
     "name": "stdout",
     "output_type": "stream",
     "text": [
      "              precision    recall  f1-score   support\n",
      "\n",
      "           0       0.76      0.66      0.70       578\n",
      "           1       0.67      0.76      0.71       518\n",
      "\n",
      "    accuracy                           0.71      1096\n",
      "   macro avg       0.71      0.71      0.71      1096\n",
      "weighted avg       0.71      0.71      0.71      1096\n",
      "\n"
     ]
    }
   ],
   "source": [
    "#Classification report\n",
    "from sklearn.metrics import classification_report\n",
    "print(classification_report(Y,y_pred))"
   ]
  },
  {
   "cell_type": "code",
   "execution_count": 27,
   "metadata": {},
   "outputs": [],
   "source": [
    "# ROC Curve for cutoff free"
   ]
  },
  {
   "cell_type": "code",
   "execution_count": 28,
   "metadata": {},
   "outputs": [
    {
     "data": {
      "text/plain": [
       "Text(0, 0.5, 'True Positive Rate')"
      ]
     },
     "execution_count": 28,
     "metadata": {},
     "output_type": "execute_result"
    },
    {
     "data": {
      "image/png": "[encoded data removed]",
      "text/plain": [
       "<Figure size 432x288 with 1 Axes>"
      ]
     },
     "metadata": {
      "needs_background": "light"
     },
     "output_type": "display_data"
    }
   ],
   "source": [
    "from sklearn.metrics import roc_curve\n",
    "from sklearn.metrics import roc_auc_score\n",
    "#tpr=tp/tp+fn fpr=fp/fp+tn\n",
    "fpr, tpr, thresholds = roc_curve(Y, classifier.predict_proba (X)[:,1])\n",
    "\n",
    "auc = roc_auc_score(Y, y_pred)\n",
    "\n",
    "import matplotlib.pyplot as plt\n",
    "plt.plot(fpr, tpr, color='red', label='logit model ( area  = %0.2f)'%auc)\n",
    "plt.plot([0, 1], [0, 1], 'k--')\n",
    "plt.xlabel('False Positive Rate or [1 - True Negative Rate]')\n",
    "plt.ylabel('True Positive Rate')\n"
   ]
  },
  {
   "cell_type": "code",
   "execution_count": 29,
   "metadata": {},
   "outputs": [
    {
     "data": {
      "text/plain": [
       "0.7108589063606365"
      ]
     },
     "execution_count": 29,
     "metadata": {},
     "output_type": "execute_result"
    }
   ],
   "source": [
    "auc"
   ]
  },
  {
   "cell_type": "code",
   "execution_count": 30,
   "metadata": {},
   "outputs": [
    {
     "name": "stdout",
     "output_type": "stream",
     "text": [
      "[0.         0.0019305  0.003861   0.003861   0.00965251 0.00965251\n",
      " 0.02316602 0.02316602 0.03667954 0.03667954 0.04633205 0.04633205\n",
      " 0.05791506 0.05791506 0.06370656 0.06370656 0.06949807 0.06949807\n",
      " 0.07722008 0.07722008 0.08880309 0.08880309 0.0984556  0.0984556\n",
      " 0.1023166  0.1023166  0.1042471  0.1042471  0.11196911 0.11196911\n",
      " 0.11389961 0.11389961 0.11583012 0.11583012 0.12741313 0.13127413\n",
      " 0.14285714 0.14285714 0.14671815 0.14671815 0.17760618 0.17760618\n",
      " 0.17953668 0.17953668 0.18146718 0.18146718 0.19305019 0.19305019\n",
      " 0.1988417  0.1988417  0.2007722  0.2007722  0.2007722  0.2027027\n",
      " 0.2027027  0.20849421 0.20849421 0.21042471 0.21042471 0.22393822\n",
      " 0.22393822 0.22586873 0.22586873 0.22779923 0.22779923 0.23166023\n",
      " 0.23166023 0.23359073 0.23359073 0.23745174 0.23745174 0.24517375\n",
      " 0.24517375 0.25482625 0.25482625 0.25868726 0.25868726 0.26447876\n",
      " 0.26447876 0.26640927 0.26640927 0.27992278 0.27992278 0.29343629\n",
      " 0.29343629 0.3030888  0.3030888  0.30501931 0.30501931 0.30694981\n",
      " 0.30694981 0.31274131 0.31274131 0.32432432 0.32432432 0.32818533\n",
      " 0.32818533 0.33976834 0.33976834 0.34362934 0.34555985 0.37065637\n",
      " 0.37065637 0.37451737 0.37451737 0.39189189 0.39189189 0.39382239\n",
      " 0.39382239 0.3996139  0.4015444  0.40540541 0.40540541 0.40733591\n",
      " 0.40733591 0.41312741 0.41312741 0.41505792 0.41505792 0.41891892\n",
      " 0.41891892 0.42084942 0.42084942 0.42471042 0.42471042 0.42664093\n",
      " 0.42664093 0.42857143 0.42857143 0.44015444 0.44015444 0.44594595\n",
      " 0.44594595 0.45366795 0.45366795 0.46718147 0.46718147 0.47683398\n",
      " 0.47683398 0.47876448 0.47876448 0.48262548 0.48262548 0.48455598\n",
      " 0.48455598 0.49034749 0.49034749 0.49420849 0.49420849 0.496139\n",
      " 0.496139   0.4980695  0.4980695  0.5019305  0.5019305  0.503861\n",
      " 0.503861   0.50772201 0.50772201 0.51737452 0.51737452 0.52123552\n",
      " 0.52123552 0.52702703 0.52702703 0.52895753 0.52895753 0.54826255\n",
      " 0.54826255 0.55212355 0.55212355 0.55791506 0.55791506 0.56370656\n",
      " 0.56370656 0.56563707 0.56563707 0.57142857 0.57142857 0.57335907\n",
      " 0.57335907 0.57528958 0.57528958 0.57722008 0.57722008 0.58301158\n",
      " 0.58301158 0.5984556  0.5984556  0.6042471  0.6042471  0.60617761\n",
      " 0.60617761 0.61196911 0.61196911 0.61776062 0.61776062 0.61969112\n",
      " 0.61969112 0.62355212 0.62355212 0.62548263 0.62548263 0.63127413\n",
      " 0.63127413 0.63320463 0.63320463 0.63899614 0.63899614 0.64864865\n",
      " 0.64864865 0.65250965 0.65250965 0.65637066 0.66023166 0.66409266\n",
      " 0.66409266 0.66988417 0.66988417 0.67374517 0.67374517 0.67760618\n",
      " 0.67760618 0.67953668 0.67953668 0.68146718 0.68146718 0.68339768\n",
      " 0.68339768 0.68725869 0.68725869 0.69111969 0.69111969 0.6988417\n",
      " 0.6988417  0.7007722  0.7007722  0.7046332  0.7046332  0.70849421\n",
      " 0.70849421 0.71042471 0.71042471 0.71235521 0.71235521 0.72007722\n",
      " 0.72007722 0.72200772 0.72200772 0.72393822 0.72393822 0.73359073\n",
      " 0.73359073 0.73552124 0.73552124 0.73745174 0.73745174 0.74131274\n",
      " 0.74131274 0.74517375 0.74517375 0.75096525 0.75096525 0.75482625\n",
      " 0.75482625 0.75868726 0.75868726 0.76254826 0.76254826 0.76447876\n",
      " 0.76447876 0.76640927 0.76640927 0.77413127 0.77413127 0.77606178\n",
      " 0.77606178 0.77992278 0.77992278 0.78185328 0.78185328 0.78378378\n",
      " 0.78378378 0.78764479 0.78764479 0.78957529 0.78957529 0.80694981\n",
      " 0.80694981 0.81081081 0.81081081 0.81274131 0.81274131 0.81467181\n",
      " 0.81467181 0.81660232 0.81660232 0.81853282 0.81853282 0.82046332\n",
      " 0.82046332 0.82239382 0.82239382 0.82432432 0.82432432 0.82625483\n",
      " 0.82625483 0.83011583 0.83011583 0.83590734 0.83590734 0.83976834\n",
      " 0.83976834 0.84169884 0.84169884 0.84362934 0.84362934 0.84749035\n",
      " 0.84749035 0.84942085 0.84942085 0.85135135 0.85135135 0.85328185\n",
      " 0.85328185 0.85714286 0.85714286 0.85907336 0.85907336 0.86100386\n",
      " 0.86293436 0.86486486 0.86486486 0.86679537 0.86679537 0.86872587\n",
      " 0.86872587 0.87065637 0.87065637 0.87258687 0.87258687 0.87451737\n",
      " 0.87451737 0.87644788 0.87644788 0.88030888 0.88030888 0.88223938\n",
      " 0.88223938 0.88416988 0.88416988 0.88610039 0.88610039 0.88803089\n",
      " 0.88803089 0.88996139 0.88996139 0.89189189 0.89189189 0.8976834\n",
      " 0.8976834  0.9015444  0.9015444  0.90540541 0.90540541 0.90926641\n",
      " 0.90926641 0.91119691 0.91119691 0.91312741 0.91312741 0.91505792\n",
      " 0.91505792 0.91698842 0.91698842 0.91891892 0.91891892 0.92084942\n",
      " 0.92084942 0.92277992 0.92277992 0.92471042 0.92471042 0.92664093\n",
      " 0.92664093 0.93050193 0.93050193 0.93436293 0.93436293 0.93822394\n",
      " 0.93822394 0.94015444 0.94015444 0.94208494 0.94208494 0.94980695\n",
      " 0.94980695 0.95173745 0.95173745 0.95366795 0.95366795 0.95559846\n",
      " 0.95559846 0.95752896 0.95752896 0.95945946 0.95945946 0.96138996\n",
      " 0.96138996 0.96332046 0.96332046 0.96525097 0.96525097 0.96718147\n",
      " 0.96718147 0.97104247 0.97104247 0.97297297 0.97297297 0.97490347\n",
      " 0.97490347 0.97876448 0.97876448 0.97876448 0.98069498 0.98069498\n",
      " 0.98262548 0.98262548 0.98455598 0.98455598 0.98648649 0.98648649\n",
      " 0.98841699 0.98841699 0.99034749 0.99034749 0.99227799 0.99227799\n",
      " 0.99420849 0.99420849 0.996139   0.996139   0.9980695  0.9980695\n",
      " 1.         1.        ] [0.         0.         0.         0.0017301  0.0017301  0.00346021\n",
      " 0.00346021 0.00519031 0.00519031 0.00865052 0.00865052 0.01038062\n",
      " 0.01038062 0.01211073 0.01211073 0.01384083 0.01384083 0.01557093\n",
      " 0.01557093 0.01730104 0.01730104 0.01903114 0.01903114 0.02076125\n",
      " 0.02076125 0.02249135 0.02249135 0.02422145 0.02422145 0.02768166\n",
      " 0.02768166 0.02941176 0.02941176 0.03287197 0.03287197 0.03287197\n",
      " 0.03287197 0.03460208 0.03460208 0.03633218 0.03633218 0.03806228\n",
      " 0.03979239 0.04152249 0.04152249 0.0432526  0.0432526  0.0449827\n",
      " 0.0449827  0.0467128  0.0467128  0.05017301 0.05190311 0.05190311\n",
      " 0.05363322 0.05363322 0.05536332 0.05536332 0.05709343 0.05709343\n",
      " 0.06055363 0.06055363 0.06228374 0.06228374 0.06401384 0.06401384\n",
      " 0.06574394 0.06574394 0.07093426 0.07093426 0.07266436 0.07266436\n",
      " 0.07439446 0.07439446 0.07612457 0.07612457 0.07785467 0.07785467\n",
      " 0.07958478 0.07958478 0.08304498 0.08304498 0.08477509 0.08477509\n",
      " 0.08650519 0.08650519 0.08823529 0.08823529 0.0899654  0.0899654\n",
      " 0.09342561 0.09342561 0.09515571 0.09515571 0.09688581 0.09688581\n",
      " 0.09861592 0.09861592 0.10034602 0.10034602 0.10207612 0.10207612\n",
      " 0.10380623 0.10380623 0.10553633 0.10553633 0.10726644 0.10726644\n",
      " 0.10899654 0.10899654 0.11072664 0.11072664 0.11245675 0.11245675\n",
      " 0.11591696 0.11591696 0.11764706 0.11764706 0.12456747 0.12456747\n",
      " 0.12802768 0.12802768 0.12975779 0.12975779 0.13148789 0.13148789\n",
      " 0.13321799 0.13321799 0.1384083  0.1384083  0.14013841 0.14013841\n",
      " 0.14186851 0.14186851 0.14359862 0.14359862 0.14532872 0.14532872\n",
      " 0.14705882 0.14705882 0.14878893 0.14878893 0.15051903 0.15051903\n",
      " 0.15397924 0.15397924 0.15570934 0.15570934 0.15743945 0.15743945\n",
      " 0.16089965 0.16089965 0.16262976 0.16262976 0.16608997 0.16608997\n",
      " 0.17128028 0.17128028 0.17474048 0.17474048 0.17647059 0.17647059\n",
      " 0.17820069 0.17820069 0.1799308  0.1799308  0.1816609  0.1816609\n",
      " 0.183391   0.183391   0.18512111 0.18512111 0.19204152 0.19204152\n",
      " 0.19377163 0.19377163 0.19723183 0.19723183 0.20069204 0.20069204\n",
      " 0.20242215 0.20242215 0.20588235 0.20588235 0.20761246 0.20761246\n",
      " 0.20934256 0.20934256 0.21107266 0.21107266 0.21280277 0.21280277\n",
      " 0.21972318 0.21972318 0.2266436  0.2266436  0.2283737  0.2283737\n",
      " 0.23356401 0.23356401 0.23529412 0.23529412 0.24221453 0.24221453\n",
      " 0.24394464 0.24394464 0.24567474 0.24567474 0.24740484 0.24740484\n",
      " 0.24913495 0.24913495 0.25432526 0.25432526 0.25432526 0.25432526\n",
      " 0.25605536 0.25605536 0.25778547 0.25778547 0.26297578 0.26297578\n",
      " 0.26643599 0.26643599 0.26816609 0.26816609 0.2716263  0.2716263\n",
      " 0.27681661 0.27681661 0.28027682 0.28027682 0.28200692 0.28200692\n",
      " 0.28373702 0.28373702 0.28719723 0.28719723 0.28892734 0.28892734\n",
      " 0.29238754 0.29238754 0.29411765 0.29411765 0.29930796 0.29930796\n",
      " 0.30103806 0.30103806 0.30276817 0.30276817 0.30449827 0.30449827\n",
      " 0.31141869 0.31141869 0.31487889 0.31487889 0.316609   0.316609\n",
      " 0.3183391  0.3183391  0.3200692  0.3200692  0.33044983 0.33044983\n",
      " 0.33391003 0.33391003 0.33737024 0.33737024 0.35467128 0.35467128\n",
      " 0.35640138 0.35640138 0.3633218  0.3633218  0.3650519  0.36678201\n",
      " 0.36851211 0.36851211 0.37716263 0.37716263 0.38581315 0.38581315\n",
      " 0.38754325 0.38754325 0.39100346 0.39100346 0.39446367 0.39446367\n",
      " 0.40138408 0.40138408 0.40657439 0.40657439 0.41522491 0.41522491\n",
      " 0.42560554 0.42560554 0.42906574 0.42906574 0.43252595 0.43252595\n",
      " 0.44290657 0.44290657 0.44463668 0.44463668 0.44636678 0.44636678\n",
      " 0.45847751 0.45847751 0.46193772 0.46193772 0.46366782 0.46366782\n",
      " 0.48442907 0.48442907 0.48788927 0.48788927 0.48961938 0.48961938\n",
      " 0.49134948 0.49134948 0.5017301  0.5017301  0.50519031 0.50519031\n",
      " 0.50865052 0.50865052 0.51038062 0.51038062 0.51211073 0.51211073\n",
      " 0.51384083 0.51384083 0.52249135 0.52249135 0.52595156 0.52595156\n",
      " 0.52768166 0.52768166 0.53287197 0.53287197 0.53460208 0.53460208\n",
      " 0.53633218 0.53633218 0.55017301 0.55017301 0.55190311 0.55190311\n",
      " 0.55709343 0.55709343 0.56920415 0.56920415 0.57093426 0.57093426\n",
      " 0.57266436 0.57266436 0.57958478 0.57958478 0.58131488 0.58131488\n",
      " 0.58304498 0.58304498 0.5916955  0.5916955  0.59515571 0.59515571\n",
      " 0.60207612 0.60207612 0.60553633 0.60553633 0.61418685 0.61418685\n",
      " 0.61937716 0.61937716 0.62975779 0.62975779 0.6384083  0.6384083\n",
      " 0.64359862 0.64359862 0.67820069 0.67820069 0.70069204 0.70069204\n",
      " 0.71453287 0.71453287 0.71626298 0.71626298 0.71972318 0.71972318\n",
      " 0.73183391 0.73183391 0.74221453 0.74221453 0.74913495 0.74913495\n",
      " 0.75951557 0.75951557 0.76297578 0.76297578 0.78200692 0.78200692\n",
      " 0.78892734 0.78892734 0.79065744 0.79065744 0.79584775 0.79584775\n",
      " 0.81487889 0.81487889 0.8200692  0.8200692  0.82698962 0.82698962\n",
      " 0.83391003 0.83391003 0.83737024 0.83737024 0.84775087 0.84775087\n",
      " 0.85294118 0.85294118 0.8633218  0.86678201 0.86678201 0.87024221\n",
      " 0.87024221 0.88581315 0.88581315 0.88927336 0.88927336 0.89273356\n",
      " 0.89273356 0.90311419 0.90311419 0.90657439 0.90657439 0.91695502\n",
      " 0.91695502 0.91868512 0.91868512 0.92041522 0.92041522 0.92906574\n",
      " 0.92906574 1.        ] [1.79054593e+00 7.90545935e-01 7.87863385e-01 7.80438455e-01\n",
      " 7.77395844e-01 7.76462373e-01 7.62275971e-01 7.61429713e-01\n",
      " 7.53158678e-01 7.51243537e-01 7.48992067e-01 7.47934566e-01\n",
      " 7.43891339e-01 7.43489999e-01 7.39028665e-01 7.38313952e-01\n",
      " 7.35520206e-01 7.34774649e-01 7.33204355e-01 7.32598687e-01\n",
      " 7.28818243e-01 7.28598763e-01 7.24064656e-01 7.23091737e-01\n",
      " 7.21417349e-01 7.20951087e-01 7.20791088e-01 7.20610901e-01\n",
      " 7.18246894e-01 7.17902002e-01 7.17597383e-01 7.17060100e-01\n",
      " 7.16867628e-01 7.15302513e-01 7.12082039e-01 7.11943596e-01\n",
      " 7.10388317e-01 7.09792061e-01 7.08524027e-01 7.07806569e-01\n",
      " 7.03971943e-01 7.03570516e-01 7.03325374e-01 7.03012024e-01\n",
      " 7.02442673e-01 7.01803943e-01 7.00108315e-01 7.00037432e-01\n",
      " 6.99357008e-01 6.99300941e-01 6.98492330e-01 6.98009381e-01\n",
      " 6.97704110e-01 6.97361014e-01 6.97356794e-01 6.97233981e-01\n",
      " 6.96379943e-01 6.95849033e-01 6.95700474e-01 6.93851273e-01\n",
      " 6.92553693e-01 6.92474711e-01 6.91979269e-01 6.91806917e-01\n",
      " 6.91483385e-01 6.90987058e-01 6.90727136e-01 6.90630803e-01\n",
      " 6.90165995e-01 6.89596245e-01 6.89590537e-01 6.88520271e-01\n",
      " 6.88115246e-01 6.87154023e-01 6.86597915e-01 6.86297260e-01\n",
      " 6.85545951e-01 6.85054492e-01 6.84971583e-01 6.84034828e-01\n",
      " 6.83186448e-01 6.80638350e-01 6.80529253e-01 6.77637112e-01\n",
      " 6.77361005e-01 6.76625223e-01 6.76506098e-01 6.76054843e-01\n",
      " 6.76021787e-01 6.75984349e-01 6.75760503e-01 6.75279473e-01\n",
      " 6.75006703e-01 6.73507584e-01 6.73126042e-01 6.72748148e-01\n",
      " 6.72455195e-01 6.70539557e-01 6.70537523e-01 6.70124739e-01\n",
      " 6.70108529e-01 6.63330013e-01 6.63287406e-01 6.62771744e-01\n",
      " 6.62321898e-01 6.58722026e-01 6.58633213e-01 6.58292985e-01\n",
      " 6.58245536e-01 6.56910200e-01 6.56280248e-01 6.55267410e-01\n",
      " 6.55173076e-01 6.54653538e-01 6.53355919e-01 6.52389887e-01\n",
      " 6.52312357e-01 6.52265521e-01 6.49772672e-01 6.48420971e-01\n",
      " 6.48015731e-01 6.47321873e-01 6.46881615e-01 6.45697623e-01\n",
      " 6.45295538e-01 6.45137932e-01 6.45071327e-01 6.44740759e-01\n",
      " 6.43414857e-01 6.40529553e-01 6.39909969e-01 6.38404398e-01\n",
      " 6.38213710e-01 6.36428108e-01 6.35742220e-01 6.31866177e-01\n",
      " 6.31863111e-01 6.30640434e-01 6.30635740e-01 6.30104731e-01\n",
      " 6.29662492e-01 6.28370462e-01 6.28058118e-01 6.27788238e-01\n",
      " 6.27064981e-01 6.25682339e-01 6.24908997e-01 6.23165462e-01\n",
      " 6.22791898e-01 6.22605150e-01 6.21575356e-01 6.20855164e-01\n",
      " 6.20356275e-01 6.19875454e-01 6.18943471e-01 6.17412062e-01\n",
      " 6.16142130e-01 6.15157827e-01 6.14116169e-01 6.13451695e-01\n",
      " 6.13412139e-01 6.11704845e-01 6.11541262e-01 6.09613118e-01\n",
      " 6.09400633e-01 6.08208807e-01 6.07922926e-01 6.05817659e-01\n",
      " 6.05680297e-01 6.04448401e-01 6.03681880e-01 6.02690372e-01\n",
      " 5.99837804e-01 5.99102925e-01 5.99053864e-01 5.98955164e-01\n",
      " 5.97933612e-01 5.97059669e-01 5.96782312e-01 5.96758825e-01\n",
      " 5.96689846e-01 5.96667962e-01 5.95702770e-01 5.95554565e-01\n",
      " 5.95126511e-01 5.94746477e-01 5.94575701e-01 5.92152312e-01\n",
      " 5.92019799e-01 5.91658213e-01 5.90759593e-01 5.90441151e-01\n",
      " 5.89642753e-01 5.88069308e-01 5.86396057e-01 5.84052995e-01\n",
      " 5.83744350e-01 5.83741111e-01 5.82733158e-01 5.80837373e-01\n",
      " 5.80333792e-01 5.78926199e-01 5.77434878e-01 5.76480745e-01\n",
      " 5.76385337e-01 5.76162457e-01 5.75446863e-01 5.74881850e-01\n",
      " 5.74511103e-01 5.72423841e-01 5.71786569e-01 5.71588600e-01\n",
      " 5.69447591e-01 5.69138824e-01 5.68779868e-01 5.67591905e-01\n",
      " 5.66794741e-01 5.65569453e-01 5.65468451e-01 5.64856623e-01\n",
      " 5.62984268e-01 5.62784251e-01 5.62351849e-01 5.62026086e-01\n",
      " 5.61796472e-01 5.61668501e-01 5.61272556e-01 5.61020962e-01\n",
      " 5.60071106e-01 5.58474738e-01 5.57902295e-01 5.56754838e-01\n",
      " 5.56603059e-01 5.55821202e-01 5.54970549e-01 5.53919809e-01\n",
      " 5.52881734e-01 5.52382653e-01 5.51877893e-01 5.51058180e-01\n",
      " 5.49072656e-01 5.48701985e-01 5.48403902e-01 5.47453168e-01\n",
      " 5.46231805e-01 5.40781284e-01 5.39995217e-01 5.38875549e-01\n",
      " 5.38500191e-01 5.38320835e-01 5.37301755e-01 5.31599586e-01\n",
      " 5.26243149e-01 5.26108096e-01 5.24345151e-01 5.24185069e-01\n",
      " 5.23509177e-01 5.22621514e-01 5.22125534e-01 5.20636268e-01\n",
      " 5.18868254e-01 5.17114788e-01 5.12537832e-01 5.11570040e-01\n",
      " 5.09359361e-01 5.07148875e-01 5.05522712e-01 5.03739180e-01\n",
      " 4.84545284e-01 4.84133186e-01 4.83826734e-01 4.83510765e-01\n",
      " 4.83064247e-01 4.79730120e-01 4.78832034e-01 4.74659335e-01\n",
      " 4.74535301e-01 4.74304345e-01 4.70646792e-01 4.69139800e-01\n",
      " 4.65803414e-01 4.64880657e-01 4.64407723e-01 4.63264213e-01\n",
      " 4.60366071e-01 4.59749224e-01 4.57381897e-01 4.44585072e-01\n",
      " 4.40859840e-01 4.40538468e-01 4.38168970e-01 4.37021059e-01\n",
      " 4.34071951e-01 4.32920969e-01 4.29883711e-01 4.29711711e-01\n",
      " 4.29398684e-01 4.29244223e-01 4.28494435e-01 4.28223591e-01\n",
      " 4.25301453e-01 4.23685019e-01 4.23230029e-01 4.22744919e-01\n",
      " 4.21882225e-01 4.21828609e-01 4.17053384e-01 4.15044949e-01\n",
      " 4.12165647e-01 4.09742416e-01 4.07034042e-01 4.06044838e-01\n",
      " 3.95474434e-01 3.93994420e-01 3.89484872e-01 3.89007491e-01\n",
      " 3.88497210e-01 3.86217552e-01 3.85745334e-01 3.85638463e-01\n",
      " 3.82017168e-01 3.81906459e-01 3.79760299e-01 3.79628905e-01\n",
      " 3.79137307e-01 3.78827343e-01 3.78774572e-01 3.77520553e-01\n",
      " 3.77347244e-01 3.76971091e-01 3.76808840e-01 3.76507358e-01\n",
      " 3.72807071e-01 3.71613358e-01 3.69924142e-01 3.69528662e-01\n",
      " 3.69363719e-01 3.68731201e-01 3.66047904e-01 3.65457412e-01\n",
      " 3.64965609e-01 3.64339359e-01 3.63574334e-01 3.62377665e-01\n",
      " 3.54606250e-01 3.52813381e-01 3.51572316e-01 3.48685580e-01\n",
      " 3.47614954e-01 3.46439810e-01 3.39472603e-01 3.37166619e-01\n",
      " 3.37165028e-01 3.36503719e-01 3.35260624e-01 3.35203219e-01\n",
      " 3.32237640e-01 3.32081851e-01 3.31264158e-01 3.30680312e-01\n",
      " 3.30104459e-01 3.28688947e-01 3.26541120e-01 3.26391194e-01\n",
      " 3.24937644e-01 3.24790466e-01 3.19576427e-01 3.18245392e-01\n",
      " 3.17569124e-01 3.17469967e-01 3.14861463e-01 3.14702925e-01\n",
      " 3.13160661e-01 3.12992522e-01 3.08477627e-01 3.07976094e-01\n",
      " 3.04103792e-01 3.03987757e-01 3.03044931e-01 3.02474292e-01\n",
      " 2.85881165e-01 2.85178398e-01 2.68302398e-01 2.67998124e-01\n",
      " 2.57127959e-01 2.55242056e-01 2.54774803e-01 2.54096124e-01\n",
      " 2.51344948e-01 2.48655916e-01 2.40504548e-01 2.40125837e-01\n",
      " 2.30773302e-01 2.30178824e-01 2.28378162e-01 2.27365152e-01\n",
      " 2.17360087e-01 2.16809338e-01 2.14376150e-01 2.14310371e-01\n",
      " 2.05365402e-01 2.02613610e-01 1.95836345e-01 1.93310384e-01\n",
      " 1.92202021e-01 1.91557987e-01 1.88720001e-01 1.87863457e-01\n",
      " 1.72084356e-01 1.71459622e-01 1.69194714e-01 1.68676749e-01\n",
      " 1.64209986e-01 1.61245023e-01 1.57230523e-01 1.54800237e-01\n",
      " 1.42976722e-01 1.39337794e-01 1.32919432e-01 1.30953337e-01\n",
      " 1.20911491e-01 1.18515473e-01 1.07264871e-01 1.03665659e-01\n",
      " 1.01432324e-01 9.98696058e-02 9.97873404e-02 9.11161149e-02\n",
      " 8.98018446e-02 8.13302847e-02 8.10871744e-02 8.00707566e-02\n",
      " 7.84357792e-02 6.66378794e-02 6.60628752e-02 6.42037886e-02\n",
      " 6.20841068e-02 5.51747160e-02 5.43854448e-02 5.27772797e-02\n",
      " 4.69588620e-02 4.40099802e-02 4.27916350e-02 2.22054253e-02\n",
      " 2.08351427e-02 3.29607242e-29]\n"
     ]
    }
   ],
   "source": [
    "print(tpr,fpr,thresholds)"
   ]
  },
  {
   "cell_type": "code",
   "execution_count": 31,
   "metadata": {},
   "outputs": [
    {
     "name": "stdout",
     "output_type": "stream",
     "text": [
      "[1.79054593e+00 7.90545935e-01 7.87863385e-01 7.80438455e-01\n",
      " 7.77395844e-01 7.76462373e-01 7.62275971e-01 7.61429713e-01\n",
      " 7.53158678e-01 7.51243537e-01 7.48992067e-01 7.47934566e-01\n",
      " 7.43891339e-01 7.43489999e-01 7.39028665e-01 7.38313952e-01\n",
      " 7.35520206e-01 7.34774649e-01 7.33204355e-01 7.32598687e-01\n",
      " 7.28818243e-01 7.28598763e-01 7.24064656e-01 7.23091737e-01\n",
      " 7.21417349e-01 7.20951087e-01 7.20791088e-01 7.20610901e-01\n",
      " 7.18246894e-01 7.17902002e-01 7.17597383e-01 7.17060100e-01\n",
      " 7.16867628e-01 7.15302513e-01 7.12082039e-01 7.11943596e-01\n",
      " 7.10388317e-01 7.09792061e-01 7.08524027e-01 7.07806569e-01\n",
      " 7.03971943e-01 7.03570516e-01 7.03325374e-01 7.03012024e-01\n",
      " 7.02442673e-01 7.01803943e-01 7.00108315e-01 7.00037432e-01\n",
      " 6.99357008e-01 6.99300941e-01 6.98492330e-01 6.98009381e-01\n",
      " 6.97704110e-01 6.97361014e-01 6.97356794e-01 6.97233981e-01\n",
      " 6.96379943e-01 6.95849033e-01 6.95700474e-01 6.93851273e-01\n",
      " 6.92553693e-01 6.92474711e-01 6.91979269e-01 6.91806917e-01\n",
      " 6.91483385e-01 6.90987058e-01 6.90727136e-01 6.90630803e-01\n",
      " 6.90165995e-01 6.89596245e-01 6.89590537e-01 6.88520271e-01\n",
      " 6.88115246e-01 6.87154023e-01 6.86597915e-01 6.86297260e-01\n",
      " 6.85545951e-01 6.85054492e-01 6.84971583e-01 6.84034828e-01\n",
      " 6.83186448e-01 6.80638350e-01 6.80529253e-01 6.77637112e-01\n",
      " 6.77361005e-01 6.76625223e-01 6.76506098e-01 6.76054843e-01\n",
      " 6.76021787e-01 6.75984349e-01 6.75760503e-01 6.75279473e-01\n",
      " 6.75006703e-01 6.73507584e-01 6.73126042e-01 6.72748148e-01\n",
      " 6.72455195e-01 6.70539557e-01 6.70537523e-01 6.70124739e-01\n",
      " 6.70108529e-01 6.63330013e-01 6.63287406e-01 6.62771744e-01\n",
      " 6.62321898e-01 6.58722026e-01 6.58633213e-01 6.58292985e-01\n",
      " 6.58245536e-01 6.56910200e-01 6.56280248e-01 6.55267410e-01\n",
      " 6.55173076e-01 6.54653538e-01 6.53355919e-01 6.52389887e-01\n",
      " 6.52312357e-01 6.52265521e-01 6.49772672e-01 6.48420971e-01\n",
      " 6.48015731e-01 6.47321873e-01 6.46881615e-01 6.45697623e-01\n",
      " 6.45295538e-01 6.45137932e-01 6.45071327e-01 6.44740759e-01\n",
      " 6.43414857e-01 6.40529553e-01 6.39909969e-01 6.38404398e-01\n",
      " 6.38213710e-01 6.36428108e-01 6.35742220e-01 6.31866177e-01\n",
      " 6.31863111e-01 6.30640434e-01 6.30635740e-01 6.30104731e-01\n",
      " 6.29662492e-01 6.28370462e-01 6.28058118e-01 6.27788238e-01\n",
      " 6.27064981e-01 6.25682339e-01 6.24908997e-01 6.23165462e-01\n",
      " 6.22791898e-01 6.22605150e-01 6.21575356e-01 6.20855164e-01\n",
      " 6.20356275e-01 6.19875454e-01 6.18943471e-01 6.17412062e-01\n",
      " 6.16142130e-01 6.15157827e-01 6.14116169e-01 6.13451695e-01\n",
      " 6.13412139e-01 6.11704845e-01 6.11541262e-01 6.09613118e-01\n",
      " 6.09400633e-01 6.08208807e-01 6.07922926e-01 6.05817659e-01\n",
      " 6.05680297e-01 6.04448401e-01 6.03681880e-01 6.02690372e-01\n",
      " 5.99837804e-01 5.99102925e-01 5.99053864e-01 5.98955164e-01\n",
      " 5.97933612e-01 5.97059669e-01 5.96782312e-01 5.96758825e-01\n",
      " 5.96689846e-01 5.96667962e-01 5.95702770e-01 5.95554565e-01\n",
      " 5.95126511e-01 5.94746477e-01 5.94575701e-01 5.92152312e-01\n",
      " 5.92019799e-01 5.91658213e-01 5.90759593e-01 5.90441151e-01\n",
      " 5.89642753e-01 5.88069308e-01 5.86396057e-01 5.84052995e-01\n",
      " 5.83744350e-01 5.83741111e-01 5.82733158e-01 5.80837373e-01\n",
      " 5.80333792e-01 5.78926199e-01 5.77434878e-01 5.76480745e-01\n",
      " 5.76385337e-01 5.76162457e-01 5.75446863e-01 5.74881850e-01\n",
      " 5.74511103e-01 5.72423841e-01 5.71786569e-01 5.71588600e-01\n",
      " 5.69447591e-01 5.69138824e-01 5.68779868e-01 5.67591905e-01\n",
      " 5.66794741e-01 5.65569453e-01 5.65468451e-01 5.64856623e-01\n",
      " 5.62984268e-01 5.62784251e-01 5.62351849e-01 5.62026086e-01\n",
      " 5.61796472e-01 5.61668501e-01 5.61272556e-01 5.61020962e-01\n",
      " 5.60071106e-01 5.58474738e-01 5.57902295e-01 5.56754838e-01\n",
      " 5.56603059e-01 5.55821202e-01 5.54970549e-01 5.53919809e-01\n",
      " 5.52881734e-01 5.52382653e-01 5.51877893e-01 5.51058180e-01\n",
      " 5.49072656e-01 5.48701985e-01 5.48403902e-01 5.47453168e-01\n",
      " 5.46231805e-01 5.40781284e-01 5.39995217e-01 5.38875549e-01\n",
      " 5.38500191e-01 5.38320835e-01 5.37301755e-01 5.31599586e-01\n",
      " 5.26243149e-01 5.26108096e-01 5.24345151e-01 5.24185069e-01\n",
      " 5.23509177e-01 5.22621514e-01 5.22125534e-01 5.20636268e-01\n",
      " 5.18868254e-01 5.17114788e-01 5.12537832e-01 5.11570040e-01\n",
      " 5.09359361e-01 5.07148875e-01 5.05522712e-01 5.03739180e-01\n",
      " 4.84545284e-01 4.84133186e-01 4.83826734e-01 4.83510765e-01\n",
      " 4.83064247e-01 4.79730120e-01 4.78832034e-01 4.74659335e-01\n",
      " 4.74535301e-01 4.74304345e-01 4.70646792e-01 4.69139800e-01\n",
      " 4.65803414e-01 4.64880657e-01 4.64407723e-01 4.63264213e-01\n",
      " 4.60366071e-01 4.59749224e-01 4.57381897e-01 4.44585072e-01\n",
      " 4.40859840e-01 4.40538468e-01 4.38168970e-01 4.37021059e-01\n",
      " 4.34071951e-01 4.32920969e-01 4.29883711e-01 4.29711711e-01\n",
      " 4.29398684e-01 4.29244223e-01 4.28494435e-01 4.28223591e-01\n",
      " 4.25301453e-01 4.23685019e-01 4.23230029e-01 4.22744919e-01\n",
      " 4.21882225e-01 4.21828609e-01 4.17053384e-01 4.15044949e-01\n",
      " 4.12165647e-01 4.09742416e-01 4.07034042e-01 4.06044838e-01\n",
      " 3.95474434e-01 3.93994420e-01 3.89484872e-01 3.89007491e-01\n",
      " 3.88497210e-01 3.86217552e-01 3.85745334e-01 3.85638463e-01\n",
      " 3.82017168e-01 3.81906459e-01 3.79760299e-01 3.79628905e-01\n",
      " 3.79137307e-01 3.78827343e-01 3.78774572e-01 3.77520553e-01\n",
      " 3.77347244e-01 3.76971091e-01 3.76808840e-01 3.76507358e-01\n",
      " 3.72807071e-01 3.71613358e-01 3.69924142e-01 3.69528662e-01\n",
      " 3.69363719e-01 3.68731201e-01 3.66047904e-01 3.65457412e-01\n",
      " 3.64965609e-01 3.64339359e-01 3.63574334e-01 3.62377665e-01\n",
      " 3.54606250e-01 3.52813381e-01 3.51572316e-01 3.48685580e-01\n",
      " 3.47614954e-01 3.46439810e-01 3.39472603e-01 3.37166619e-01\n",
      " 3.37165028e-01 3.36503719e-01 3.35260624e-01 3.35203219e-01\n",
      " 3.32237640e-01 3.32081851e-01 3.31264158e-01 3.30680312e-01\n",
      " 3.30104459e-01 3.28688947e-01 3.26541120e-01 3.26391194e-01\n",
      " 3.24937644e-01 3.24790466e-01 3.19576427e-01 3.18245392e-01\n",
      " 3.17569124e-01 3.17469967e-01 3.14861463e-01 3.14702925e-01\n",
      " 3.13160661e-01 3.12992522e-01 3.08477627e-01 3.07976094e-01\n",
      " 3.04103792e-01 3.03987757e-01 3.03044931e-01 3.02474292e-01\n",
      " 2.85881165e-01 2.85178398e-01 2.68302398e-01 2.67998124e-01\n",
      " 2.57127959e-01 2.55242056e-01 2.54774803e-01 2.54096124e-01\n",
      " 2.51344948e-01 2.48655916e-01 2.40504548e-01 2.40125837e-01\n",
      " 2.30773302e-01 2.30178824e-01 2.28378162e-01 2.27365152e-01\n",
      " 2.17360087e-01 2.16809338e-01 2.14376150e-01 2.14310371e-01\n",
      " 2.05365402e-01 2.02613610e-01 1.95836345e-01 1.93310384e-01\n",
      " 1.92202021e-01 1.91557987e-01 1.88720001e-01 1.87863457e-01\n",
      " 1.72084356e-01 1.71459622e-01 1.69194714e-01 1.68676749e-01\n",
      " 1.64209986e-01 1.61245023e-01 1.57230523e-01 1.54800237e-01\n",
      " 1.42976722e-01 1.39337794e-01 1.32919432e-01 1.30953337e-01\n",
      " 1.20911491e-01 1.18515473e-01 1.07264871e-01 1.03665659e-01\n",
      " 1.01432324e-01 9.98696058e-02 9.97873404e-02 9.11161149e-02\n",
      " 8.98018446e-02 8.13302847e-02 8.10871744e-02 8.00707566e-02\n",
      " 7.84357792e-02 6.66378794e-02 6.60628752e-02 6.42037886e-02\n",
      " 6.20841068e-02 5.51747160e-02 5.43854448e-02 5.27772797e-02\n",
      " 4.69588620e-02 4.40099802e-02 4.27916350e-02 2.22054253e-02\n",
      " 2.08351427e-02 3.29607242e-29]\n"
     ]
    }
   ],
   "source": [
    "print(thresholds) #automatically"
   ]
  },
  {
   "cell_type": "code",
   "execution_count": 32,
   "metadata": {},
   "outputs": [],
   "source": [
    "#multiple classes"
   ]
  },
  {
   "cell_type": "code",
   "execution_count": 33,
   "metadata": {},
   "outputs": [],
   "source": [
    "import seaborn as sns\n",
    "from sklearn.model_selection import train_test_split\n",
    "from sklearn.metrics import confusion_matrix\n",
    "from sklearn.metrics import accuracy_score as ac"
   ]
  },
  {
   "cell_type": "code",
   "execution_count": 34,
   "metadata": {},
   "outputs": [
    {
     "data": {
      "text/html": [
       "<div>\n",
       "<style scoped>\n",
       "    .dataframe tbody tr th:only-of-type {\n",
       "        vertical-align: middle;\n",
       "    }\n",
       "\n",
       "    .dataframe tbody tr th {\n",
       "        vertical-align: top;\n",
       "    }\n",
       "\n",
       "    .dataframe thead th {\n",
       "        text-align: right;\n",
       "    }\n",
       "</style>\n",
       "<table border=\"1\" class=\"dataframe\">\n",
       "  <thead>\n",
       "    <tr style=\"text-align: right;\">\n",
       "      <th></th>\n",
       "      <th>sepal_length</th>\n",
       "      <th>sepal_width</th>\n",
       "      <th>petal_length</th>\n",
       "      <th>petal_width</th>\n",
       "      <th>species</th>\n",
       "    </tr>\n",
       "  </thead>\n",
       "  <tbody>\n",
       "    <tr>\n",
       "      <th>0</th>\n",
       "      <td>5.1</td>\n",
       "      <td>3.5</td>\n",
       "      <td>1.4</td>\n",
       "      <td>0.2</td>\n",
       "      <td>setosa</td>\n",
       "    </tr>\n",
       "    <tr>\n",
       "      <th>1</th>\n",
       "      <td>4.9</td>\n",
       "      <td>3.0</td>\n",
       "      <td>1.4</td>\n",
       "      <td>0.2</td>\n",
       "      <td>setosa</td>\n",
       "    </tr>\n",
       "    <tr>\n",
       "      <th>2</th>\n",
       "      <td>4.7</td>\n",
       "      <td>3.2</td>\n",
       "      <td>1.3</td>\n",
       "      <td>0.2</td>\n",
       "      <td>setosa</td>\n",
       "    </tr>\n",
       "    <tr>\n",
       "      <th>3</th>\n",
       "      <td>4.6</td>\n",
       "      <td>3.1</td>\n",
       "      <td>1.5</td>\n",
       "      <td>0.2</td>\n",
       "      <td>setosa</td>\n",
       "    </tr>\n",
       "    <tr>\n",
       "      <th>4</th>\n",
       "      <td>5.0</td>\n",
       "      <td>3.6</td>\n",
       "      <td>1.4</td>\n",
       "      <td>0.2</td>\n",
       "      <td>setosa</td>\n",
       "    </tr>\n",
       "    <tr>\n",
       "      <th>...</th>\n",
       "      <td>...</td>\n",
       "      <td>...</td>\n",
       "      <td>...</td>\n",
       "      <td>...</td>\n",
       "      <td>...</td>\n",
       "    </tr>\n",
       "    <tr>\n",
       "      <th>145</th>\n",
       "      <td>6.7</td>\n",
       "      <td>3.0</td>\n",
       "      <td>5.2</td>\n",
       "      <td>2.3</td>\n",
       "      <td>virginica</td>\n",
       "    </tr>\n",
       "    <tr>\n",
       "      <th>146</th>\n",
       "      <td>6.3</td>\n",
       "      <td>2.5</td>\n",
       "      <td>5.0</td>\n",
       "      <td>1.9</td>\n",
       "      <td>virginica</td>\n",
       "    </tr>\n",
       "    <tr>\n",
       "      <th>147</th>\n",
       "      <td>6.5</td>\n",
       "      <td>3.0</td>\n",
       "      <td>5.2</td>\n",
       "      <td>2.0</td>\n",
       "      <td>virginica</td>\n",
       "    </tr>\n",
       "    <tr>\n",
       "      <th>148</th>\n",
       "      <td>6.2</td>\n",
       "      <td>3.4</td>\n",
       "      <td>5.4</td>\n",
       "      <td>2.3</td>\n",
       "      <td>virginica</td>\n",
       "    </tr>\n",
       "    <tr>\n",
       "      <th>149</th>\n",
       "      <td>5.9</td>\n",
       "      <td>3.0</td>\n",
       "      <td>5.1</td>\n",
       "      <td>1.8</td>\n",
       "      <td>virginica</td>\n",
       "    </tr>\n",
       "  </tbody>\n",
       "</table>\n",
       "<p>150 rows × 5 columns</p>\n",
       "</div>"
      ],
      "text/plain": [
       "     sepal_length  sepal_width  petal_length  petal_width    species\n",
       "0             5.1          3.5           1.4          0.2     setosa\n",
       "1             4.9          3.0           1.4          0.2     setosa\n",
       "2             4.7          3.2           1.3          0.2     setosa\n",
       "3             4.6          3.1           1.5          0.2     setosa\n",
       "4             5.0          3.6           1.4          0.2     setosa\n",
       "..            ...          ...           ...          ...        ...\n",
       "145           6.7          3.0           5.2          2.3  virginica\n",
       "146           6.3          2.5           5.0          1.9  virginica\n",
       "147           6.5          3.0           5.2          2.0  virginica\n",
       "148           6.2          3.4           5.4          2.3  virginica\n",
       "149           5.9          3.0           5.1          1.8  virginica\n",
       "\n",
       "[150 rows x 5 columns]"
      ]
     },
     "execution_count": 34,
     "metadata": {},
     "output_type": "execute_result"
    }
   ],
   "source": [
    "data=sns.load_dataset(\"iris\")\n",
    "data"
   ]
  },
  {
   "cell_type": "code",
   "execution_count": 35,
   "metadata": {},
   "outputs": [
    {
     "data": {
      "text/plain": [
       "setosa        50\n",
       "virginica     50\n",
       "versicolor    50\n",
       "Name: species, dtype: int64"
      ]
     },
     "execution_count": 35,
     "metadata": {},
     "output_type": "execute_result"
    }
   ],
   "source": [
    "data['species'].value_counts()"
   ]
  },
  {
   "cell_type": "code",
   "execution_count": 36,
   "metadata": {},
   "outputs": [],
   "source": [
    "x=data.iloc[:,:4]\n",
    "y=data.iloc[:,4]"
   ]
  },
  {
   "cell_type": "code",
   "execution_count": 37,
   "metadata": {},
   "outputs": [],
   "source": [
    "x_train,x_test,y_train,y_test=train_test_split(x,y,test_size=0.3,shuffle=True)#30% data fr testing remaing for trainhing"
   ]
  },
  {
   "cell_type": "code",
   "execution_count": 38,
   "metadata": {},
   "outputs": [
    {
     "data": {
      "text/plain": [
       "(105, 4)"
      ]
     },
     "execution_count": 38,
     "metadata": {},
     "output_type": "execute_result"
    }
   ],
   "source": [
    "x_train.shape"
   ]
  },
  {
   "cell_type": "code",
   "execution_count": 39,
   "metadata": {},
   "outputs": [
    {
     "data": {
      "text/plain": [
       "(105,)"
      ]
     },
     "execution_count": 39,
     "metadata": {},
     "output_type": "execute_result"
    }
   ],
   "source": [
    "y_train.shape"
   ]
  },
  {
   "cell_type": "code",
   "execution_count": 40,
   "metadata": {},
   "outputs": [
    {
     "data": {
      "text/plain": [
       "LogisticRegression()"
      ]
     },
     "execution_count": 40,
     "metadata": {},
     "output_type": "execute_result"
    }
   ],
   "source": [
    "#logistic regression & fit model\n",
    "classifier=LogisticRegression()\n",
    "classifier.fit(x_train,y_train)"
   ]
  },
  {
   "cell_type": "code",
   "execution_count": 41,
   "metadata": {},
   "outputs": [],
   "source": [
    "y_train_pred=classifier.predict(x_train)"
   ]
  },
  {
   "cell_type": "code",
   "execution_count": 42,
   "metadata": {},
   "outputs": [
    {
     "data": {
      "text/plain": [
       "0.9619047619047619"
      ]
     },
     "execution_count": 42,
     "metadata": {},
     "output_type": "execute_result"
    }
   ],
   "source": [
    "ac(y_train,y_train_pred)"
   ]
  },
  {
   "cell_type": "code",
   "execution_count": 43,
   "metadata": {},
   "outputs": [],
   "source": [
    "y_test_pred=classifier.predict(x_test)"
   ]
  },
  {
   "cell_type": "code",
   "execution_count": 44,
   "metadata": {},
   "outputs": [
    {
     "data": {
      "text/plain": [
       "1.0"
      ]
     },
     "execution_count": 44,
     "metadata": {},
     "output_type": "execute_result"
    }
   ],
   "source": [
    "ac(y_test,y_test_pred)"
   ]
  },
  {
   "cell_type": "code",
   "execution_count": 45,
   "metadata": {},
   "outputs": [
    {
     "data": {
      "text/plain": [
       "array([  8.64680626,   1.61034579, -10.25715205])"
      ]
     },
     "execution_count": 45,
     "metadata": {},
     "output_type": "execute_result"
    }
   ],
   "source": [
    "classifier.intercept_"
   ]
  },
  {
   "cell_type": "code",
   "execution_count": 46,
   "metadata": {},
   "outputs": [
    {
     "data": {
      "text/plain": [
       "array([[-0.32363095,  0.86722887, -2.31382154, -0.92464913],\n",
       "       [ 0.39726375, -0.12486548, -0.07687074, -0.88172838],\n",
       "       [-0.0736328 , -0.74236339,  2.39069227,  1.80637751]])"
      ]
     },
     "execution_count": 46,
     "metadata": {},
     "output_type": "execute_result"
    }
   ],
   "source": [
    "classifier.coef_"
   ]
  },
  {
   "cell_type": "code",
   "execution_count": 47,
   "metadata": {},
   "outputs": [
    {
     "data": {
      "text/plain": [
       "{'setosa', 'versicolor', 'virginica'}"
      ]
     },
     "execution_count": 47,
     "metadata": {},
     "output_type": "execute_result"
    }
   ],
   "source": [
    "set(y_train) #numerous intercept and coef due to 3 models"
   ]
  },
  {
   "cell_type": "code",
   "execution_count": null,
   "metadata": {},
   "outputs": [],
   "source": []
  }
 ],
 "metadata": {
  "kernelspec": {
   "display_name": "Python 3",
   "language": "python",
   "name": "python3"
  },
  "language_info": {
   "codemirror_mode": {
    "name": "ipython",
    "version": 3
   },
   "file_extension": ".py",
   "mimetype": "text/x-python",
   "name": "python",
   "nbconvert_exporter": "python",
   "pygments_lexer": "ipython3",
   "version": "3.8.8"
  }
 },
 "nbformat": 4,
 "nbformat_minor": 4
}
